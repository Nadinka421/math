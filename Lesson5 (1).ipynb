{
 "cells": [
  {
   "cell_type": "code",
   "execution_count": 16,
   "id": "977181b9",
   "metadata": {},
   "outputs": [
    {
     "name": "stdout",
     "output_type": "stream",
     "text": [
      "Наблюдаемое значение z-критерия:  2.5000\n"
     ]
    }
   ],
   "source": [
    "# Проведите тест гипотезы. Утверждается, что шарики для подшипников, изготовленные автоматическим станком, \n",
    "# имеют средний диаметр 17 мм. Используя односторонний критерий с α=0,05, проверить эту гипотезу, \n",
    "# если в выборке из n=100 шариков средний диаметр оказался равным 17.5 мм, а дисперсия известна и равна 4 кв. мм.\n",
    "\n",
    "import numpy as np\n",
    "import scipy.stats as stats\n",
    "z=(17.5-17)/0.2\n",
    "print(f'Наблюдаемое значение z-критерия: {z: .4f}')"
   ]
  },
  {
   "cell_type": "code",
   "execution_count": 4,
   "id": "e58ea2db",
   "metadata": {},
   "outputs": [
    {
     "name": "stdout",
     "output_type": "stream",
     "text": [
      "Табличное значение z-критерия:  1.6449\n"
     ]
    }
   ],
   "source": [
    "zt=stats.norm.ppf(0.95)\n",
    "print(f'Табличное значение z-критерия: {zt: .4f}')"
   ]
  },
  {
   "cell_type": "code",
   "execution_count": 14,
   "id": "4f049677",
   "metadata": {},
   "outputs": [
    {
     "data": {
      "text/plain": [
       "False"
      ]
     },
     "execution_count": 14,
     "metadata": {},
     "output_type": "execute_result"
    }
   ],
   "source": [
    "z<zt"
   ]
  },
  {
   "cell_type": "code",
   "execution_count": null,
   "id": "d90ee9ff",
   "metadata": {},
   "outputs": [],
   "source": [
    "Отвергаем нулевую гипотезу на уровне значимости 0.05"
   ]
  },
  {
   "cell_type": "code",
   "execution_count": 17,
   "id": "93812e40",
   "metadata": {},
   "outputs": [],
   "source": [
    "# Проведите тест гипотезы. Продавец утверждает, что средний вес пачки печенья составляет 200 г.\n",
    "# Из партии извлечена выборка из 10 пачек. Вес каждой пачки составляет:\n",
    "# 202, 203, 199, 197, 195, 201, 200, 204, 194, 190.\n",
    "# Известно, что их веса распределены нормально.\n",
    "# Верно ли утверждение продавца, если учитывать, что доверительная вероятность равна 99%? (Провести двусторонний тест.)\n",
    "\n",
    "cookies=np.array([202, 203, 199, 197, 195, 201, 200, 204, 194, 190])"
   ]
  },
  {
   "cell_type": "code",
   "execution_count": 18,
   "id": "acd76581",
   "metadata": {},
   "outputs": [
    {
     "name": "stdout",
     "output_type": "stream",
     "text": [
      "Наблюдаемое значение t-критерия: -1.0651\n"
     ]
    }
   ],
   "source": [
    "tn=(np.mean(cookies)-200)/(np.std(cookies,ddof=1)/len(cookies)**0.5)\n",
    "print(f'Наблюдаемое значение t-критерия: {tn: .4f}')"
   ]
  },
  {
   "cell_type": "code",
   "execution_count": 19,
   "id": "253b5643",
   "metadata": {},
   "outputs": [
    {
     "name": "stdout",
     "output_type": "stream",
     "text": [
      "Табличное значение t-критерия:  3.2498\n"
     ]
    }
   ],
   "source": [
    "tt=stats.t.ppf(0.995,len(cookies)-1)\n",
    "print(f'Табличное значение t-критерия: {tt: .4f}')"
   ]
  },
  {
   "cell_type": "code",
   "execution_count": 20,
   "id": "429c4138",
   "metadata": {},
   "outputs": [
    {
     "data": {
      "text/plain": [
       "True"
      ]
     },
     "execution_count": 20,
     "metadata": {},
     "output_type": "execute_result"
    }
   ],
   "source": [
    "np.abs(tn)<tt"
   ]
  },
  {
   "cell_type": "code",
   "execution_count": null,
   "id": "413bf78e",
   "metadata": {},
   "outputs": [],
   "source": [
    "Принимаем нулевую гипотезу на уровне значимости 0.01"
   ]
  }
 ],
 "metadata": {
  "kernelspec": {
   "display_name": "Python 3 (ipykernel)",
   "language": "python",
   "name": "python3"
  },
  "language_info": {
   "codemirror_mode": {
    "name": "ipython",
    "version": 3
   },
   "file_extension": ".py",
   "mimetype": "text/x-python",
   "name": "python",
   "nbconvert_exporter": "python",
   "pygments_lexer": "ipython3",
   "version": "3.9.12"
  }
 },
 "nbformat": 4,
 "nbformat_minor": 5
}
