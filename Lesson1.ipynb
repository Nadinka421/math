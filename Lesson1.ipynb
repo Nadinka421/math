{
 "cells": [
  {
   "cell_type": "code",
   "execution_count": 1,
   "id": "d8caa89a",
   "metadata": {},
   "outputs": [
    {
     "data": {
      "text/plain": [
       "0.26410564225690275"
      ]
     },
     "execution_count": 1,
     "metadata": {},
     "output_type": "execute_result"
    }
   ],
   "source": [
    "# Задание 1\n",
    "# Из колоды в 52 карты извлекаются случайным образом 4 карты. \n",
    "# a) Найти вероятность того, что все карты – крести.\n",
    "13/52*12/51*11/50*10/49*100"
   ]
  },
  {
   "cell_type": "code",
   "execution_count": 2,
   "id": "6f5a9f34",
   "metadata": {},
   "outputs": [
    {
     "data": {
      "text/plain": [
       "6.8235294117647065"
      ]
     },
     "execution_count": 2,
     "metadata": {},
     "output_type": "execute_result"
    }
   ],
   "source": [
    "# Найти вероятность, что среди этих карт окажется хотя бы один туз.\n",
    "(4*48*47*46 + 4*3*48*47 + 4*2*3*48 + 4*3*2*1) / (52*51*50*49) * 100"
   ]
  },
  {
   "cell_type": "code",
   "execution_count": 3,
   "id": "46af08a5",
   "metadata": {},
   "outputs": [
    {
     "data": {
      "text/plain": [
       "0.8333333333333334"
      ]
     },
     "execution_count": 3,
     "metadata": {},
     "output_type": "execute_result"
    }
   ],
   "source": [
    "# Задание 2\n",
    "# На входной двери подъезда установлен кодовый замок, содержащий десять кнопок с цифрами от 0 до 9. \n",
    "# Код содержит три цифры, которые нужно нажать одновременно. \n",
    "1/120*100"
   ]
  },
  {
   "cell_type": "code",
   "execution_count": 4,
   "id": "fc92ac4a",
   "metadata": {},
   "outputs": [
    {
     "data": {
      "text/plain": [
       "18.461538461538463"
      ]
     },
     "execution_count": 4,
     "metadata": {},
     "output_type": "execute_result"
    }
   ],
   "source": [
    "# Задание 3\n",
    "# В ящике имеется 15 деталей, из которых 9 окрашены. Рабочий случайным образом извлекает 3 детали. \n",
    "# Какова вероятность того, что все извлеченные детали окрашены?\n",
    "(9*8*7) / (15*14*13) * 100"
   ]
  },
  {
   "cell_type": "code",
   "execution_count": 5,
   "id": "d50ec0c5",
   "metadata": {},
   "outputs": [
    {
     "data": {
      "text/plain": [
       "0.0202020202020202"
      ]
     },
     "execution_count": 5,
     "metadata": {},
     "output_type": "execute_result"
    }
   ],
   "source": [
    "# Задание 4\n",
    "# В лотерее 100 билетов. Из них 2 выигрышных. \n",
    "# Какова вероятность того, что 2 приобретенных билета окажутся выигрышными?\n",
    "2/9900*100"
   ]
  },
  {
   "cell_type": "code",
   "execution_count": null,
   "id": "9dd195ed",
   "metadata": {},
   "outputs": [],
   "source": []
  }
 ],
 "metadata": {
  "kernelspec": {
   "display_name": "Python 3 (ipykernel)",
   "language": "python",
   "name": "python3"
  },
  "language_info": {
   "codemirror_mode": {
    "name": "ipython",
    "version": 3
   },
   "file_extension": ".py",
   "mimetype": "text/x-python",
   "name": "python",
   "nbconvert_exporter": "python",
   "pygments_lexer": "ipython3",
   "version": "3.9.12"
  }
 },
 "nbformat": 4,
 "nbformat_minor": 5
}
