{
 "cells": [
  {
   "cell_type": "code",
   "execution_count": 7,
   "id": "d0d31b7a",
   "metadata": {},
   "outputs": [
    {
     "data": {
      "text/plain": [
       "0.048061793700746355"
      ]
     },
     "execution_count": 7,
     "metadata": {},
     "output_type": "execute_result"
    }
   ],
   "source": [
    "# Вероятность того, что стрелок попадет в мишень, выстрелив один раз, равна 0.8. \n",
    "# Стрелок выстрелил 100 раз. Найдите вероятность того, что стрелок попадет в цель ровно 85 раз.\n",
    "import numpy as np\n",
    "from math import factorial as f\n",
    "\n",
    "def choose(n,k):\n",
    "    return f(n) / (f(k) * f(n-k))\n",
    "\n",
    "def bern(p, n, k):\n",
    "    return choose(n,k) * p**(k) * (1 - p)**(n - k)\n",
    "\n",
    "def puas(l,m):\n",
    "    return l**m/f(m)*np.exp(-l)\n",
    "bern(0.8, 100, 85)"
   ]
  },
  {
   "cell_type": "code",
   "execution_count": 9,
   "id": "3a7e4ff8",
   "metadata": {},
   "outputs": [
    {
     "data": {
      "text/plain": [
       "0.1353352832366127"
      ]
     },
     "execution_count": 9,
     "metadata": {},
     "output_type": "execute_result"
    }
   ],
   "source": [
    "# Вероятность того, что лампочка перегорит в течение первого дня эксплуатации, равна 0.0004. \n",
    "# В жилом комплексе после ремонта в один день включили 5000 новых лампочек. \n",
    "# Какова вероятность, что ни одна из них не перегорит в первый день? \n",
    "\n",
    "lmbd = 5000*0.0004\n",
    "puas(lmbd, 0)"
   ]
  },
  {
   "cell_type": "code",
   "execution_count": 10,
   "id": "b97394d1",
   "metadata": {},
   "outputs": [
    {
     "data": {
      "text/plain": [
       "0.2706705664732254"
      ]
     },
     "execution_count": 10,
     "metadata": {},
     "output_type": "execute_result"
    }
   ],
   "source": [
    "# Какова вероятность, что перегорят ровно две?\n",
    "puas(lmbd, 2)"
   ]
  },
  {
   "cell_type": "code",
   "execution_count": 11,
   "id": "37e7c37c",
   "metadata": {},
   "outputs": [
    {
     "data": {
      "text/plain": [
       "0.06281178035144776"
      ]
     },
     "execution_count": 11,
     "metadata": {},
     "output_type": "execute_result"
    }
   ],
   "source": [
    "# Монету подбросили 144 раза. Какова вероятность, что орел выпадет ровно 70 раз?\n",
    "bern(0.5, 144, 70)"
   ]
  },
  {
   "cell_type": "code",
   "execution_count": 12,
   "id": "0e184e8c",
   "metadata": {},
   "outputs": [
    {
     "data": {
      "text/plain": [
       "0.3054545454545455"
      ]
     },
     "execution_count": 12,
     "metadata": {},
     "output_type": "execute_result"
    }
   ],
   "source": [
    "# В первом ящике находится 10 мячей, из которых 7 - белые. \n",
    "# Во втором ящике - 11 мячей, из которых 9 белых. \n",
    "# Из каждого ящика вытаскивают случайным образом по два мяча. \n",
    "# Какова вероятность того, что все мячи белые? \n",
    "(7*6*9*8)/(10*9*11*10)"
   ]
  },
  {
   "cell_type": "code",
   "execution_count": 13,
   "id": "7102dabd",
   "metadata": {},
   "outputs": [
    {
     "data": {
      "text/plain": [
       "0.20484848484848484"
      ]
     },
     "execution_count": 13,
     "metadata": {},
     "output_type": "execute_result"
    }
   ],
   "source": [
    "# Какова вероятность того, что ровно два мяча белые? \n",
    "(7/10)*(6/9)*(2/11)*(1/10) + (7/10)*(3/9)*(9/11)*(2/10) + (7/10)*(3/9)*(2/11)*(9/10) + \\\n",
    "(3/10)*(7/9)*(9/11)*(2/10) + (3/10)*(7/9)*(2/11)*(9/10) + (3/10)*(2/9)*(9/11)*(8/10)"
   ]
  },
  {
   "cell_type": "code",
   "execution_count": 14,
   "id": "1ecabb8f",
   "metadata": {},
   "outputs": [
    {
     "data": {
      "text/plain": [
       "0.9987878787878788"
      ]
     },
     "execution_count": 14,
     "metadata": {},
     "output_type": "execute_result"
    }
   ],
   "source": [
    "# Какова вероятность того, что хотя бы один мяч белый?\n",
    "1-(3/10*2/9*2/11*1/10)"
   ]
  },
  {
   "cell_type": "code",
   "execution_count": null,
   "id": "fa74a8c7",
   "metadata": {},
   "outputs": [],
   "source": []
  }
 ],
 "metadata": {
  "kernelspec": {
   "display_name": "Python 3 (ipykernel)",
   "language": "python",
   "name": "python3"
  },
  "language_info": {
   "codemirror_mode": {
    "name": "ipython",
    "version": 3
   },
   "file_extension": ".py",
   "mimetype": "text/x-python",
   "name": "python",
   "nbconvert_exporter": "python",
   "pygments_lexer": "ipython3",
   "version": "3.9.12"
  }
 },
 "nbformat": 4,
 "nbformat_minor": 5
}
