{
 "cells": [
  {
   "cell_type": "code",
   "execution_count": 1,
   "id": "354bd52e",
   "metadata": {},
   "outputs": [],
   "source": [
    "# 1\n",
    "import numpy as np\n",
    "import scipy.stats as stats"
   ]
  },
  {
   "cell_type": "code",
   "execution_count": 2,
   "id": "df10eaa7",
   "metadata": {},
   "outputs": [
    {
     "data": {
      "text/plain": [
       "MannwhitneyuResult(statistic=4.0, pvalue=0.29794154528258887)"
      ]
     },
     "execution_count": 2,
     "metadata": {},
     "output_type": "execute_result"
    }
   ],
   "source": [
    "x1=np.array([380,420,290])\n",
    "y1=np.array([140,360,200,900])\n",
    "alpha=0.05\n",
    "stats.mannwhitneyu(x1, y1)"
   ]
  },
  {
   "cell_type": "code",
   "execution_count": null,
   "id": "9d91217e",
   "metadata": {},
   "outputs": [],
   "source": [
    "Статистически значимых значений нет. 0 гипотезу не отвергаем."
   ]
  },
  {
   "cell_type": "code",
   "execution_count": 3,
   "id": "b2a4e87d",
   "metadata": {},
   "outputs": [
    {
     "data": {
      "text/plain": [
       "FriedmanchisquareResult(statistic=9.578947368421062, pvalue=0.00831683351100441)"
      ]
     },
     "execution_count": 3,
     "metadata": {},
     "output_type": "execute_result"
    }
   ],
   "source": [
    "# 2\n",
    "x1=np.array([150, 160, 165, 145, 155])\n",
    "x2=np.array([140, 155, 150, 130, 135])\n",
    "x3=np.array([130, 130, 120, 130, 125])\n",
    "alpha=0.05\n",
    "stats.friedmanchisquare(x1, x2, x3)"
   ]
  },
  {
   "cell_type": "code",
   "execution_count": null,
   "id": "a6f0f113",
   "metadata": {},
   "outputs": [],
   "source": [
    "Статистически значимые значения есть. Препарат влияет на давление."
   ]
  },
  {
   "cell_type": "code",
   "execution_count": 4,
   "id": "488a6dcd",
   "metadata": {},
   "outputs": [
    {
     "data": {
      "text/plain": [
       "WilcoxonResult(statistic=0.0, pvalue=0.0625)"
      ]
     },
     "execution_count": 4,
     "metadata": {},
     "output_type": "execute_result"
    }
   ],
   "source": [
    "# 3\n",
    "x1=np.array([150, 160, 165, 145, 155])\n",
    "x2=np.array([140, 155, 150, 130, 135])\n",
    "alpha=0.05\n",
    "stats.wilcoxon(x1, x2)"
   ]
  },
  {
   "cell_type": "code",
   "execution_count": null,
   "id": "ba1a3cc2",
   "metadata": {},
   "outputs": [],
   "source": [
    "Статистически значимых различий нет. Препарат не влияет на давление."
   ]
  },
  {
   "cell_type": "code",
   "execution_count": 5,
   "id": "4abdca44",
   "metadata": {},
   "outputs": [
    {
     "data": {
      "text/plain": [
       "KruskalResult(statistic=5.465564058257224, pvalue=0.0650380998590494)"
      ]
     },
     "execution_count": 5,
     "metadata": {},
     "output_type": "execute_result"
    }
   ],
   "source": [
    "# 4\n",
    "x1=np.array([56, 60, 62, 55, 71, 67, 59, 58, 64, 67])\n",
    "x2=np.array([57, 58, 69, 48, 72, 70, 68, 71, 50, 53])\n",
    "x3=np.array([57, 67, 49, 48, 47, 55, 66, 51, 54])\n",
    "alpha=0.05\n",
    "stats.kruskal(x1,x2,x3)"
   ]
  },
  {
   "cell_type": "code",
   "execution_count": null,
   "id": "07d8a7ec",
   "metadata": {},
   "outputs": [],
   "source": [
    "Статистически значимых различий нет. Время на дистанцию одинаковое."
   ]
  },
  {
   "cell_type": "code",
   "execution_count": 6,
   "id": "f5db10ca",
   "metadata": {},
   "outputs": [
    {
     "data": {
      "text/plain": [
       "(2.5279999999999996, 0.1572542173961923)"
      ]
     },
     "execution_count": 6,
     "metadata": {},
     "output_type": "execute_result"
    }
   ],
   "source": [
    "# 5\n",
    "weights = np.array([2.51, 2.35, 2.74, 2.56, 2.40, 2.36, 2.65, 2.7, 2.67, 2.34])\n",
    "n = 10\n",
    "mean = weights.mean()\n",
    "std = weights.std(ddof=1)\n",
    "mean, std"
   ]
  },
  {
   "cell_type": "code",
   "execution_count": 7,
   "id": "684addbb",
   "metadata": {},
   "outputs": [
    {
     "data": {
      "text/plain": [
       "0.5630613661802959"
      ]
     },
     "execution_count": 7,
     "metadata": {},
     "output_type": "execute_result"
    }
   ],
   "source": [
    "t = (mean-2.5)/(std/np.sqrt(n)) # t- наблюдаемое\n",
    "t"
   ]
  },
  {
   "cell_type": "code",
   "execution_count": null,
   "id": "4fbd825f",
   "metadata": {},
   "outputs": [],
   "source": [
    "Значение попадает в критическую область. Таким образом гипотезу не отвергаем, \n",
    "партия изготавливается со средним арифметическим 2,5"
   ]
  }
 ],
 "metadata": {
  "kernelspec": {
   "display_name": "Python 3 (ipykernel)",
   "language": "python",
   "name": "python3"
  },
  "language_info": {
   "codemirror_mode": {
    "name": "ipython",
    "version": 3
   },
   "file_extension": ".py",
   "mimetype": "text/x-python",
   "name": "python",
   "nbconvert_exporter": "python",
   "pygments_lexer": "ipython3",
   "version": "3.9.12"
  }
 },
 "nbformat": 4,
 "nbformat_minor": 5
}
